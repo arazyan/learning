{
 "cells": [
  {
   "attachments": {},
   "cell_type": "markdown",
   "metadata": {},
   "source": [
    "# Useful methods\n",
    "## os\n",
    "    os.walk()\n",
    "    os.path.join()"
   ]
  },
  {
   "attachments": {},
   "cell_type": "markdown",
   "metadata": {},
   "source": [
    "# Tasks\n",
    "    1.Соберите все данные из папки data в один датафрэйм, имеющий следующие столбцы: колонки из самих файлов (product_id, quantity), а также имя пользователя (name), и дата этих покупок (date), соответствует названию папки, где лежит папка с пользователем)\n",
    "    2.Выясните, какой пользователь купил больше всего товаров. Если их несколько, то перечислите имена через запятую с пробелом и в алфавитном порядке.\n",
    "    3.Найдите топ-10 товаров по числу проданных единиц за всё время и постройте барплот. Сколько было продано единиц товара с product_id==56?\n",
    "    4.Визуализируйте продажи по дням.\n",
    "    5.Сколько пользователей приобрели какой-либо товар повторно (более 1 раза)? Повтором будем считать покупку товара с одинаковым product_id, совершенную в разные дни. \n",
    "\n",
    "# Data\n",
    "    data.zip\n"
   ]
  },
  {
   "cell_type": "code",
   "execution_count": 69,
   "metadata": {},
   "outputs": [],
   "source": [
    "import pandas as pd\n",
    "\n",
    "import os"
   ]
  },
  {
   "attachments": {},
   "cell_type": "markdown",
   "metadata": {},
   "source": [
    "### Task 1"
   ]
  },
  {
   "cell_type": "code",
   "execution_count": 70,
   "metadata": {},
   "outputs": [
    {
     "data": {
      "text/plain": [
       "['2020-12-07',\n",
       " '2020-12-04',\n",
       " '2020-12-03',\n",
       " '2020-12-09',\n",
       " '2020-12-08',\n",
       " '2020-12-05',\n",
       " '2020-12-06']"
      ]
     },
     "execution_count": 70,
     "metadata": {},
     "output_type": "execute_result"
    }
   ],
   "source": [
    "os.listdir('data')"
   ]
  },
  {
   "cell_type": "code",
   "execution_count": 71,
   "metadata": {},
   "outputs": [],
   "source": [
    "# не та функция\n",
    "def get_from_path(path_to_dir):\n",
    "    \"\"\"Функция, собирающая пути и csv.\n",
    "    Сканирует path_to_dir и ее поддиректории на наличие csv-файлов.\n",
    "\n",
    "    Принимаемые параметры: path_to_dir - путь начала сканирования.\n",
    "    Возвращаемое значение: список (возможно пустой). \n",
    "    \"\"\"\n",
    "    all_csv = [ ]\n",
    "\n",
    "    for root, dirs, files in os.walk('.', topdown=False):  # сканирование дно-верх\n",
    "        for name in files:\n",
    "            if '.csv' in name:\n",
    "                all_csv.append(os.path.join(root, name))\n",
    "\n",
    "    return all_csv\n"
   ]
  },
  {
   "attachments": {},
   "cell_type": "markdown",
   "metadata": {},
   "source": [
    "Кажется, из списка списков можно сделать датафрейм."
   ]
  },
  {
   "cell_type": "code",
   "execution_count": 72,
   "metadata": {},
   "outputs": [],
   "source": [
    "csvs = get_from_path('./data')"
   ]
  },
  {
   "cell_type": "code",
   "execution_count": 73,
   "metadata": {},
   "outputs": [
    {
     "data": {
      "text/plain": [
       "['./data/2020-12-07/Alexey_Ivanov/data.csv',\n",
       " './data/2020-12-07/Anton_Ivanov/data.csv',\n",
       " './data/2020-12-07/Petr_Smirnov/data.csv',\n",
       " './data/2020-12-07/Alexey_Fedorov/data.csv',\n",
       " './data/2020-12-07/Petr_Fedorov/data.csv',\n",
       " './data/2020-12-07/Vasiliy_Ivanov/data.csv',\n",
       " './data/2020-12-07/Alexey_Smirnov/data.csv',\n",
       " './data/2020-12-07/Kirill_Fedorov/data.csv',\n",
       " './data/2020-12-07/Rostislav_Fedorov/data.csv',\n",
       " './data/2020-12-07/Anton_Smirnov/data.csv',\n",
       " './data/2020-12-04/Petr_Smirnov/data.csv',\n",
       " './data/2020-12-04/Petr_Fedorov/data.csv',\n",
       " './data/2020-12-04/Vasiliy_Ivanov/data.csv',\n",
       " './data/2020-12-04/Rostislav_Ivanov/data.csv',\n",
       " './data/2020-12-04/Alexey_Smirnov/data.csv',\n",
       " './data/2020-12-04/Rostislav_Smirnov/data.csv',\n",
       " './data/2020-12-04/Kirill_Fedorov/data.csv',\n",
       " './data/2020-12-04/Rostislav_Fedorov/data.csv',\n",
       " './data/2020-12-04/Petr_Ivanov/data.csv',\n",
       " './data/2020-12-03/Petr_Fedorov/data.csv',\n",
       " './data/2020-12-03/Vasiliy_Ivanov/data.csv',\n",
       " './data/2020-12-03/Alexey_Smirnov/data.csv',\n",
       " './data/2020-12-03/Vasiliy_Petrov/data.csv',\n",
       " './data/2020-12-03/Anton_Petrov/data.csv',\n",
       " './data/2020-12-03/Kirill_Petrov/data.csv',\n",
       " './data/2020-12-09/Rostislav_Petrov/data.csv',\n",
       " './data/2020-12-09/Anton_Ivanov/data.csv',\n",
       " './data/2020-12-09/Petr_Fedorov/data.csv',\n",
       " './data/2020-12-09/Vasiliy_Ivanov/data.csv',\n",
       " './data/2020-12-09/Alexey_Smirnov/data.csv',\n",
       " './data/2020-12-09/Anton_Petrov/data.csv',\n",
       " './data/2020-12-09/Anton_Smirnov/data.csv',\n",
       " './data/2020-12-08/Petr_Petrov/data.csv',\n",
       " './data/2020-12-08/Rostislav_Petrov/data.csv',\n",
       " './data/2020-12-08/Kirill_Smirnov/data.csv',\n",
       " './data/2020-12-08/Alexey_Fedorov/data.csv',\n",
       " './data/2020-12-08/Anton_Smirnov/data.csv',\n",
       " './data/2020-12-05/Petr_Smirnov/data.csv',\n",
       " './data/2020-12-05/Kirill_Smirnov/data.csv',\n",
       " './data/2020-12-05/Alexey_Fedorov/data.csv',\n",
       " './data/2020-12-05/Alexey_Petrov/data.csv',\n",
       " './data/2020-12-05/Rostislav_Smirnov/data.csv',\n",
       " './data/2020-12-05/Petr_Ivanov/data.csv',\n",
       " './data/2020-12-06/Vasiliy_Fedorov/data.csv']"
      ]
     },
     "execution_count": 73,
     "metadata": {},
     "output_type": "execute_result"
    }
   ],
   "source": [
    "csvs"
   ]
  },
  {
   "cell_type": "code",
   "execution_count": 74,
   "metadata": {},
   "outputs": [],
   "source": [
    "almost_df = [file_path.split('/') for file_path in csvs]"
   ]
  },
  {
   "cell_type": "code",
   "execution_count": 99,
   "metadata": {},
   "outputs": [
    {
     "data": {
      "text/plain": [
       "[['.', 'data', '2020-12-07', 'Alexey_Ivanov', 'data.csv'],\n",
       " ['.', 'data', '2020-12-07', 'Anton_Ivanov', 'data.csv'],\n",
       " ['.', 'data', '2020-12-07', 'Petr_Smirnov', 'data.csv'],\n",
       " ['.', 'data', '2020-12-07', 'Alexey_Fedorov', 'data.csv'],\n",
       " ['.', 'data', '2020-12-07', 'Petr_Fedorov', 'data.csv'],\n",
       " ['.', 'data', '2020-12-07', 'Vasiliy_Ivanov', 'data.csv'],\n",
       " ['.', 'data', '2020-12-07', 'Alexey_Smirnov', 'data.csv'],\n",
       " ['.', 'data', '2020-12-07', 'Kirill_Fedorov', 'data.csv'],\n",
       " ['.', 'data', '2020-12-07', 'Rostislav_Fedorov', 'data.csv'],\n",
       " ['.', 'data', '2020-12-07', 'Anton_Smirnov', 'data.csv'],\n",
       " ['.', 'data', '2020-12-04', 'Petr_Smirnov', 'data.csv'],\n",
       " ['.', 'data', '2020-12-04', 'Petr_Fedorov', 'data.csv'],\n",
       " ['.', 'data', '2020-12-04', 'Vasiliy_Ivanov', 'data.csv'],\n",
       " ['.', 'data', '2020-12-04', 'Rostislav_Ivanov', 'data.csv'],\n",
       " ['.', 'data', '2020-12-04', 'Alexey_Smirnov', 'data.csv'],\n",
       " ['.', 'data', '2020-12-04', 'Rostislav_Smirnov', 'data.csv'],\n",
       " ['.', 'data', '2020-12-04', 'Kirill_Fedorov', 'data.csv'],\n",
       " ['.', 'data', '2020-12-04', 'Rostislav_Fedorov', 'data.csv'],\n",
       " ['.', 'data', '2020-12-04', 'Petr_Ivanov', 'data.csv'],\n",
       " ['.', 'data', '2020-12-03', 'Petr_Fedorov', 'data.csv'],\n",
       " ['.', 'data', '2020-12-03', 'Vasiliy_Ivanov', 'data.csv'],\n",
       " ['.', 'data', '2020-12-03', 'Alexey_Smirnov', 'data.csv'],\n",
       " ['.', 'data', '2020-12-03', 'Vasiliy_Petrov', 'data.csv'],\n",
       " ['.', 'data', '2020-12-03', 'Anton_Petrov', 'data.csv'],\n",
       " ['.', 'data', '2020-12-03', 'Kirill_Petrov', 'data.csv'],\n",
       " ['.', 'data', '2020-12-09', 'Rostislav_Petrov', 'data.csv'],\n",
       " ['.', 'data', '2020-12-09', 'Anton_Ivanov', 'data.csv'],\n",
       " ['.', 'data', '2020-12-09', 'Petr_Fedorov', 'data.csv'],\n",
       " ['.', 'data', '2020-12-09', 'Vasiliy_Ivanov', 'data.csv'],\n",
       " ['.', 'data', '2020-12-09', 'Alexey_Smirnov', 'data.csv'],\n",
       " ['.', 'data', '2020-12-09', 'Anton_Petrov', 'data.csv'],\n",
       " ['.', 'data', '2020-12-09', 'Anton_Smirnov', 'data.csv'],\n",
       " ['.', 'data', '2020-12-08', 'Petr_Petrov', 'data.csv'],\n",
       " ['.', 'data', '2020-12-08', 'Rostislav_Petrov', 'data.csv'],\n",
       " ['.', 'data', '2020-12-08', 'Kirill_Smirnov', 'data.csv'],\n",
       " ['.', 'data', '2020-12-08', 'Alexey_Fedorov', 'data.csv'],\n",
       " ['.', 'data', '2020-12-08', 'Anton_Smirnov', 'data.csv'],\n",
       " ['.', 'data', '2020-12-05', 'Petr_Smirnov', 'data.csv'],\n",
       " ['.', 'data', '2020-12-05', 'Kirill_Smirnov', 'data.csv'],\n",
       " ['.', 'data', '2020-12-05', 'Alexey_Fedorov', 'data.csv'],\n",
       " ['.', 'data', '2020-12-05', 'Alexey_Petrov', 'data.csv'],\n",
       " ['.', 'data', '2020-12-05', 'Rostislav_Smirnov', 'data.csv'],\n",
       " ['.', 'data', '2020-12-05', 'Petr_Ivanov', 'data.csv'],\n",
       " ['.', 'data', '2020-12-06', 'Vasiliy_Fedorov', 'data.csv']]"
      ]
     },
     "execution_count": 99,
     "metadata": {},
     "output_type": "execute_result"
    }
   ],
   "source": [
    "almost_df"
   ]
  },
  {
   "cell_type": "code",
   "execution_count": 133,
   "metadata": {},
   "outputs": [],
   "source": [
    "data = almost_df[0][2:4]"
   ]
  },
  {
   "cell_type": "code",
   "execution_count": 134,
   "metadata": {},
   "outputs": [
    {
     "data": {
      "text/plain": [
       "['2020-12-07', 'Alexey_Ivanov']"
      ]
     },
     "execution_count": 134,
     "metadata": {},
     "output_type": "execute_result"
    }
   ],
   "source": [
    "data"
   ]
  },
  {
   "cell_type": "code",
   "execution_count": 175,
   "metadata": {},
   "outputs": [],
   "source": [
    "df1 = pd.read_csv(csvs[0]).drop(columns='Unnamed: 0')"
   ]
  },
  {
   "cell_type": "code",
   "execution_count": 177,
   "metadata": {},
   "outputs": [
    {
     "data": {
      "text/html": [
       "<div>\n",
       "<style scoped>\n",
       "    .dataframe tbody tr th:only-of-type {\n",
       "        vertical-align: middle;\n",
       "    }\n",
       "\n",
       "    .dataframe tbody tr th {\n",
       "        vertical-align: top;\n",
       "    }\n",
       "\n",
       "    .dataframe thead th {\n",
       "        text-align: right;\n",
       "    }\n",
       "</style>\n",
       "<table border=\"1\" class=\"dataframe\">\n",
       "  <thead>\n",
       "    <tr style=\"text-align: right;\">\n",
       "      <th></th>\n",
       "      <th>product_id</th>\n",
       "      <th>quantity</th>\n",
       "    </tr>\n",
       "  </thead>\n",
       "  <tbody>\n",
       "    <tr>\n",
       "      <th>0</th>\n",
       "      <td>13</td>\n",
       "      <td>4</td>\n",
       "    </tr>\n",
       "    <tr>\n",
       "      <th>1</th>\n",
       "      <td>27</td>\n",
       "      <td>5</td>\n",
       "    </tr>\n",
       "    <tr>\n",
       "      <th>2</th>\n",
       "      <td>34</td>\n",
       "      <td>2</td>\n",
       "    </tr>\n",
       "    <tr>\n",
       "      <th>3</th>\n",
       "      <td>40</td>\n",
       "      <td>2</td>\n",
       "    </tr>\n",
       "    <tr>\n",
       "      <th>4</th>\n",
       "      <td>77</td>\n",
       "      <td>1</td>\n",
       "    </tr>\n",
       "    <tr>\n",
       "      <th>5</th>\n",
       "      <td>90</td>\n",
       "      <td>3</td>\n",
       "    </tr>\n",
       "  </tbody>\n",
       "</table>\n",
       "</div>"
      ],
      "text/plain": [
       "   product_id  quantity\n",
       "0          13         4\n",
       "1          27         5\n",
       "2          34         2\n",
       "3          40         2\n",
       "4          77         1\n",
       "5          90         3"
      ]
     },
     "execution_count": 177,
     "metadata": {},
     "output_type": "execute_result"
    }
   ],
   "source": [
    "df1"
   ]
  },
  {
   "cell_type": "code",
   "execution_count": 176,
   "metadata": {},
   "outputs": [
    {
     "data": {
      "text/plain": [
       "product_id    13\n",
       "quantity       4\n",
       "Name: 0, dtype: int64"
      ]
     },
     "execution_count": 176,
     "metadata": {},
     "output_type": "execute_result"
    }
   ],
   "source": [
    "df1.iloc[0]"
   ]
  },
  {
   "cell_type": "code",
   "execution_count": null,
   "metadata": {},
   "outputs": [],
   "source": []
  },
  {
   "cell_type": "code",
   "execution_count": null,
   "metadata": {},
   "outputs": [],
   "source": []
  }
 ],
 "metadata": {
  "kernelspec": {
   "display_name": "Python 3",
   "language": "python",
   "name": "python3"
  },
  "language_info": {
   "codemirror_mode": {
    "name": "ipython",
    "version": 3
   },
   "file_extension": ".py",
   "mimetype": "text/x-python",
   "name": "python",
   "nbconvert_exporter": "python",
   "pygments_lexer": "ipython3",
   "version": "3.10.9 (main, Dec 19 2022, 17:35:49) [GCC 12.2.0]"
  },
  "orig_nbformat": 4,
  "vscode": {
   "interpreter": {
    "hash": "767d51c1340bd893661ea55ea3124f6de3c7a262a8b4abca0554b478b1e2ff90"
   }
  }
 },
 "nbformat": 4,
 "nbformat_minor": 2
}
